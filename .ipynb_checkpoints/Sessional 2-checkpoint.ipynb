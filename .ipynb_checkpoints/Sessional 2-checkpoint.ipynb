{
 "cells": [
  {
   "cell_type": "code",
   "execution_count": 139,
   "id": "0d73d1f4",
   "metadata": {},
   "outputs": [],
   "source": [
    "import os\n",
    "import re\n",
    "import requests\n",
    "from bs4 import BeautifulSoup\n",
    "from progressbar import progressbar"
   ]
  },
  {
   "cell_type": "code",
   "execution_count": 57,
   "id": "8b644bc9",
   "metadata": {},
   "outputs": [],
   "source": [
    "PATH_TO_CORPUS  = \"F:\\\\IR Lab\\\\classics\\\\black-beauty.txt\""
   ]
  },
  {
   "cell_type": "code",
   "execution_count": 58,
   "id": "802f6fd2",
   "metadata": {},
   "outputs": [],
   "source": [
    "file = open(PATH_TO_CORPUS, \"r\" , encoding = \"utf-8\").read()"
   ]
  },
  {
   "cell_type": "code",
   "execution_count": 59,
   "id": "e9f2b826",
   "metadata": {},
   "outputs": [],
   "source": [
    "file = re.sub(r'\\n',\" \" ,file) "
   ]
  },
  {
   "cell_type": "code",
   "execution_count": 60,
   "id": "25b11eea",
   "metadata": {},
   "outputs": [],
   "source": [
    "filet = re.sub(r'[^A-Za-z0-9\\-]+',' ' ,file) "
   ]
  },
  {
   "cell_type": "code",
   "execution_count": 61,
   "id": "28491194",
   "metadata": {},
   "outputs": [],
   "source": [
    "pattern  = re.compile(r'^\\d\\d\\d\\d-\\d\\d\\d\\d$')\n",
    "y =  list(filter(pattern.match, filet.split(\" \")))"
   ]
  },
  {
   "cell_type": "code",
   "execution_count": 62,
   "id": "87c57f78",
   "metadata": {},
   "outputs": [
    {
     "data": {
      "text/plain": [
       "['1820-1878']"
      ]
     },
     "execution_count": 62,
     "metadata": {},
     "output_type": "execute_result"
    }
   ],
   "source": [
    "y"
   ]
  },
  {
   "cell_type": "code",
   "execution_count": 65,
   "id": "da12a9bc",
   "metadata": {},
   "outputs": [],
   "source": [
    "pattern  = re.compile(r'^http[s]?\\:\\/\\/\\w+\\.\\w+')\n",
    "url =  list(filter(pattern.match, file.split(\" \")))"
   ]
  },
  {
   "cell_type": "code",
   "execution_count": 66,
   "id": "c30fe2d7",
   "metadata": {},
   "outputs": [
    {
     "data": {
      "text/plain": [
       "['http://www.gutenberg.org/2/7/271/',\n",
       " 'http://gutenberg.org/license).',\n",
       " 'http://www.pglaf.org.',\n",
       " 'http://pglaf.org/fundraising.',\n",
       " 'http://pglaf.org',\n",
       " 'http://pglaf.org',\n",
       " 'http://pglaf.org/donate',\n",
       " 'http://www.gutenberg.org']"
      ]
     },
     "execution_count": 66,
     "metadata": {},
     "output_type": "execute_result"
    }
   ],
   "source": [
    "url"
   ]
  },
  {
   "cell_type": "code",
   "execution_count": 143,
   "id": "74d99d25",
   "metadata": {},
   "outputs": [],
   "source": [
    "def geturls(article_url, classname):\n",
    "\n",
    "    response = requests.get(article_url)\n",
    "    \n",
    "    \n",
    "    if response.status_code == 200:\n",
    "        \n",
    "        soup = BeautifulSoup(response.text, 'html.parser')\n",
    "        divwithcontent = soup.find('div', {'class' : classname})\n",
    "        \n",
    "        \n",
    "        news_text = []\n",
    "        links = divwithcontent.find_all()\n",
    "        for link in links:\n",
    "            news_text.append(link.get_text())\n",
    "        \n",
    "        # Remove extra whitespaces and return the extracted text\n",
    "        return \"\\n\".join(news_text)\n",
    "    else:\n",
    "        print(\"Failed to retrieve the article. Status code:\", response.status_code)\n",
    "        return None"
   ]
  },
  {
   "cell_type": "code",
   "execution_count": 144,
   "id": "92ad47fd",
   "metadata": {},
   "outputs": [
    {
     "name": "stderr",
     "output_type": "stream",
     "text": [
      "100% |########################################################################|\r"
     ]
    }
   ],
   "source": [
    "speech = []\n",
    "bar = progressbar.ProgressBar(i).start()\n",
    "for i in range(1,54):\n",
    "    content = geturls(\"https://www.presidency.ucsb.edu/documents/inaugural-address-\" + str(i), \"field-docs-content\" )\n",
    "    speech.append(content)\n",
    "    bar.update(i)"
   ]
  },
  {
   "cell_type": "code",
   "execution_count": 145,
   "id": "cf506751",
   "metadata": {},
   "outputs": [
    {
     "data": {
      "text/plain": [
       "53"
      ]
     },
     "execution_count": 145,
     "metadata": {},
     "output_type": "execute_result"
    }
   ],
   "source": [
    "len(speech)"
   ]
  },
  {
   "cell_type": "code",
   "execution_count": 147,
   "id": "ad0143e7",
   "metadata": {},
   "outputs": [
    {
     "name": "stderr",
     "output_type": "stream",
     "text": [
      "100% |########################################################################|\r"
     ]
    }
   ],
   "source": [
    "title = []\n",
    "bar = progressbar.ProgressBar(i).start()\n",
    "for i in range(1,54):\n",
    "    content = geturls(\"https://www.presidency.ucsb.edu/documents/inaugural-address-\" + str(i), \"field-title\")\n",
    "    title.append(content)\n",
    "    bar.update(i)"
   ]
  },
  {
   "cell_type": "code",
   "execution_count": 148,
   "id": "7923297a",
   "metadata": {},
   "outputs": [
    {
     "data": {
      "text/plain": [
       "53"
      ]
     },
     "execution_count": 148,
     "metadata": {},
     "output_type": "execute_result"
    }
   ],
   "source": [
    "len(title)"
   ]
  },
  {
   "cell_type": "code",
   "execution_count": 151,
   "id": "0b66d1b0",
   "metadata": {},
   "outputs": [
    {
     "data": {
      "text/plain": [
       "'Dwight D. Eisenhower\\nDwight D. Eisenhower'"
      ]
     },
     "execution_count": 151,
     "metadata": {},
     "output_type": "execute_result"
    }
   ],
   "source": [
    "title[2]"
   ]
  },
  {
   "cell_type": "code",
   "execution_count": 155,
   "id": "727414bf",
   "metadata": {},
   "outputs": [],
   "source": [
    "with open(\"F:\\\\IR Lab\\\\president\\\\title.txt\",\"w\",encoding = \"utf-8\") as f:\n",
    "    f.write(\"\\n\".join(title))\n"
   ]
  },
  {
   "cell_type": "code",
   "execution_count": 159,
   "id": "84971aef",
   "metadata": {},
   "outputs": [],
   "source": [
    "for i in range(1,53):\n",
    "    with open(\"F:\\\\IR Lab\\\\president\\\\speech\\\\\" + str(i) + \".txt\",\"w\",encoding = \"utf-8\") as f:\n",
    "        f.write(speech[i])"
   ]
  }
 ],
 "metadata": {
  "kernelspec": {
   "display_name": "Python 3 (ipykernel)",
   "language": "python",
   "name": "python3"
  },
  "language_info": {
   "codemirror_mode": {
    "name": "ipython",
    "version": 3
   },
   "file_extension": ".py",
   "mimetype": "text/x-python",
   "name": "python",
   "nbconvert_exporter": "python",
   "pygments_lexer": "ipython3",
   "version": "3.11.4"
  }
 },
 "nbformat": 4,
 "nbformat_minor": 5
}
