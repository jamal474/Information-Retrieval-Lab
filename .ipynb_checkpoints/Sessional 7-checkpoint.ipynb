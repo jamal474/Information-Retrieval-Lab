{
 "cells": [
  {
   "cell_type": "code",
   "execution_count": 1,
   "metadata": {},
   "outputs": [],
   "source": [
    "import re\n",
    "import os"
   ]
  },
  {
   "cell_type": "code",
   "execution_count": 2,
   "metadata": {},
   "outputs": [],
   "source": [
    "path = \"C:\\\\Users\\\\acer\\\\Desktop\\\\shabbir\\\\\"\n",
    "\n",
    "file = open(path + \"reut2-000.sgm\",\"r\").read()"
   ]
  },
  {
   "cell_type": "code",
   "execution_count": 3,
   "metadata": {},
   "outputs": [
    {
     "data": {
      "text/plain": [
       "925"
      ]
     },
     "execution_count": 3,
     "metadata": {},
     "output_type": "execute_result"
    }
   ],
   "source": [
    "pattern = re.compile(r'<TITLE>.+?</TITLE>')\n",
    "title = re.findall(pattern,file);\n",
    "len(title)"
   ]
  },
  {
   "cell_type": "code",
   "execution_count": 4,
   "metadata": {},
   "outputs": [
    {
     "name": "stdout",
     "output_type": "stream",
     "text": [
      "Docs with Cocoa in Title :  2\n"
     ]
    }
   ],
   "source": [
    "count = 0\n",
    "for text in title:\n",
    "    text = re.sub(r'<TITLE>',\"\",text)\n",
    "    text = re.sub(r'</TITLE>',\"\",text)\n",
    "    text = text.split(\" \");\n",
    "    for ele in text:\n",
    "        if(ele.lower() == 'cocoa'):\n",
    "            count = count + 1\n",
    "            break;\n",
    "print(\"Docs with Cocoa in Title : \",count)   "
   ]
  },
  {
   "cell_type": "code",
   "execution_count": 5,
   "metadata": {},
   "outputs": [],
   "source": [
    "filet = re.sub(r'\\n','{{n}} ',file)"
   ]
  },
  {
   "cell_type": "code",
   "execution_count": 6,
   "metadata": {},
   "outputs": [
    {
     "data": {
      "text/plain": [
       "925"
      ]
     },
     "execution_count": 6,
     "metadata": {},
     "output_type": "execute_result"
    }
   ],
   "source": [
    "pt = re.compile(r'<BODY>.+?</BODY>')\n",
    "bodytemp =  re.findall(pt,filet);\n",
    "bodytemp\n",
    "\n",
    "body = []\n",
    "for bd in bodytemp:\n",
    "    temp = re.sub(r'{{n}}','\\n',bd[6:-7])\n",
    "    body.append(temp)\n",
    "    \n",
    "len(body)"
   ]
  },
  {
   "cell_type": "code",
   "execution_count": 7,
   "metadata": {},
   "outputs": [],
   "source": [
    "findex = 0\n",
    "for i,tl in enumerate(title):\n",
    "    findex = findex+1\n",
    "    fp = open(path + \"new_corpus\\\\Body\\\\\" + \"Text\" + str(findex) + '.txt',\"a\")\n",
    "    fp.write(body[i])\n",
    "    fp.close"
   ]
  },
  {
   "cell_type": "code",
   "execution_count": 15,
   "metadata": {},
   "outputs": [
    {
     "data": {
      "text/plain": [
       "<function TextIOWrapper.close()>"
      ]
     },
     "execution_count": 15,
     "metadata": {},
     "output_type": "execute_result"
    }
   ],
   "source": [
    "titleString = \"\"\n",
    "for tt in title:\n",
    "    titleString = titleString + \"\\n\" +  tt[7:-8];\n",
    "\n",
    "fp = open(path + \"new_corpus\\\\\" + \"Title\" + '.txt',\"a\")\n",
    "fp.write(titleString)\n",
    "fp.close"
   ]
  },
  {
   "cell_type": "code",
   "execution_count": null,
   "metadata": {},
   "outputs": [],
   "source": []
  }
 ],
 "metadata": {
  "kernelspec": {
   "display_name": "Python 3 (ipykernel)",
   "language": "python",
   "name": "python3"
  },
  "language_info": {
   "codemirror_mode": {
    "name": "ipython",
    "version": 3
   },
   "file_extension": ".py",
   "mimetype": "text/x-python",
   "name": "python",
   "nbconvert_exporter": "python",
   "pygments_lexer": "ipython3",
   "version": "3.11.4"
  }
 },
 "nbformat": 4,
 "nbformat_minor": 2
}
